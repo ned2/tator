{
 "cells": [
  {
   "cell_type": "markdown",
   "metadata": {},
   "source": [
    "# Geo Query Dataset Analysis"
   ]
  },
  {
   "cell_type": "code",
   "execution_count": 3,
   "metadata": {},
   "outputs": [
    {
     "name": "stdout",
     "output_type": "stream",
     "text": [
      "The autoreload extension is already loaded. To reload it, use:\n",
      "  %reload_ext autoreload\n"
     ]
    }
   ],
   "source": [
    "import os\n",
    "import sys\n",
    "\n",
    "import pandas as pd\n",
    "import seaborn as sns\n",
    "import matplotlib\n",
    "import matplotlib.pyplot as plt\n",
    "\n",
    "import utils\n",
    "\n",
    "%matplotlib inline\n",
    "%load_ext autoreload\n",
    "%autoreload 2\n",
    "\n",
    "\n",
    "CSV_PATH = '../../data/unique_counts_semi.csv'\n",
    "\n",
    "# load data\n",
    "initial_df = utils.load_queries(CSV_PATH)"
   ]
  },
  {
   "cell_type": "markdown",
   "metadata": {},
   "source": [
    "Do some cleanup"
   ]
  },
  {
   "cell_type": "code",
   "execution_count": 2,
   "metadata": {},
   "outputs": [
    {
     "name": "stdout",
     "output_type": "stream",
     "text": [
      "39135 distinct queries after stripping 38 queries of length 1\n",
      "Yielding a total of 84011 query occurrences.\n"
     ]
    }
   ],
   "source": [
    "# filter out queries with length less than 2 characters long                                                                                                          \n",
    "start_num = len(initial_df)\n",
    "df = utils.clean_queries(initial_df)\n",
    "\n",
    "print(\"{} distinct queries after stripping {} queries of length 1\".format(len(df), start_num-len(df)))\n",
    "print(\"Yielding a total of {} query occurrences.\".format(df['countqstring'].sum()))\n"
   ]
  },
  {
   "cell_type": "markdown",
   "metadata": {},
   "source": [
    "## Query Frequency Analysis"
   ]
  },
  {
   "cell_type": "markdown",
   "metadata": {},
   "source": [
    "Let's take a look"
   ]
  },
  {
   "cell_type": "code",
   "execution_count": 3,
   "metadata": {},
   "outputs": [
    {
     "data": {
      "text/html": [
       "<div>\n",
       "<style>\n",
       "    .dataframe thead tr:only-child th {\n",
       "        text-align: right;\n",
       "    }\n",
       "\n",
       "    .dataframe thead th {\n",
       "        text-align: left;\n",
       "    }\n",
       "\n",
       "    .dataframe tbody tr th {\n",
       "        vertical-align: top;\n",
       "    }\n",
       "</style>\n",
       "<table border=\"1\" class=\"dataframe\">\n",
       "  <thead>\n",
       "    <tr style=\"text-align: right;\">\n",
       "      <th></th>\n",
       "      <th>querystring</th>\n",
       "      <th>countqstring</th>\n",
       "    </tr>\n",
       "  </thead>\n",
       "  <tbody>\n",
       "    <tr>\n",
       "      <th>1</th>\n",
       "      <td>Flatshare</td>\n",
       "      <td>1381</td>\n",
       "    </tr>\n",
       "    <tr>\n",
       "      <th>2</th>\n",
       "      <td>Jobs</td>\n",
       "      <td>981</td>\n",
       "    </tr>\n",
       "    <tr>\n",
       "      <th>3</th>\n",
       "      <td>facebook</td>\n",
       "      <td>607</td>\n",
       "    </tr>\n",
       "    <tr>\n",
       "      <th>4</th>\n",
       "      <td>hotmail</td>\n",
       "      <td>415</td>\n",
       "    </tr>\n",
       "    <tr>\n",
       "      <th>5</th>\n",
       "      <td>Real Estate</td>\n",
       "      <td>409</td>\n",
       "    </tr>\n",
       "    <tr>\n",
       "      <th>6</th>\n",
       "      <td>google</td>\n",
       "      <td>377</td>\n",
       "    </tr>\n",
       "    <tr>\n",
       "      <th>7</th>\n",
       "      <td>Hospitality</td>\n",
       "      <td>357</td>\n",
       "    </tr>\n",
       "    <tr>\n",
       "      <th>8</th>\n",
       "      <td>Property for Rent</td>\n",
       "      <td>266</td>\n",
       "    </tr>\n",
       "    <tr>\n",
       "      <th>9</th>\n",
       "      <td>australia</td>\n",
       "      <td>255</td>\n",
       "    </tr>\n",
       "    <tr>\n",
       "      <th>10</th>\n",
       "      <td>gmail</td>\n",
       "      <td>252</td>\n",
       "    </tr>\n",
       "  </tbody>\n",
       "</table>\n",
       "</div>"
      ],
      "text/plain": [
       "          querystring  countqstring\n",
       "1           Flatshare          1381\n",
       "2                Jobs           981\n",
       "3            facebook           607\n",
       "4             hotmail           415\n",
       "5         Real Estate           409\n",
       "6              google           377\n",
       "7         Hospitality           357\n",
       "8   Property for Rent           266\n",
       "9           australia           255\n",
       "10              gmail           252"
      ]
     },
     "execution_count": 3,
     "metadata": {},
     "output_type": "execute_result"
    }
   ],
   "source": [
    "df.head(10)"
   ]
  },
  {
   "cell_type": "markdown",
   "metadata": {},
   "source": [
    "The frequency of queries drops off pretty quickly, suggesting a long tail of low frequency queries. Let's get a sense of this by looking at the cumulative coverage of queries with frequencies between 1 and 10.\n",
    "\n",
    "While we're at it, we can plot the cumulative coverage up until a frequency of 200 (in ascending order of frequency)."
   ]
  },
  {
   "cell_type": "code",
   "execution_count": 4,
   "metadata": {},
   "outputs": [
    {
     "name": "stdout",
     "output_type": "stream",
     "text": [
      "Freq   Cumulative Coverage\n",
      " 1     29.71%\n",
      " 2     48.20%\n",
      " 3     58.36%\n",
      " 4     64.60%\n",
      " 5     68.29%\n",
      " 6     71.33%\n",
      " 7     73.12%\n",
      " 8     75.03%\n",
      " 9     76.36%\n",
      "10     77.66%\n"
     ]
    },
    {
     "data": {
      "image/png": "[encoded data removed]",
      "text/plain": [
       "<matplotlib.figure.Figure at 0x7f9200427860>"
      ]
     },
     "metadata": {},
     "output_type": "display_data"
    }
   ],
   "source": [
    "total = df['countqstring'].sum()\n",
    "fig, ax = plt.subplots(ncols=2, figsize=(20, 8))\n",
    "\n",
    "cum_coverage = pd.Series(range(1,200)).apply(lambda n: df[df['countqstring'] <= n]['countqstring'].sum())/total\n",
    "cum_coverage = cum_coverage*100\n",
    "cum_coverage = cum_coverage.round(2)\n",
    "\n",
    "# plot the cumulative coverage\n",
    "cum_coverage.plot(ax=ax[0])\n",
    "ax[0].set_xlabel('Query Frequency')\n",
    "ax[0].set_ylabel('Cumulative Coverage (%)')\n",
    "\n",
    "# see if it looks Zipfian. ie plot a log-log graph of query frequency against query rank \n",
    "df.plot(ax=ax[1], y='countqstring', use_index=True, logx=True, logy=True)\n",
    "ax[1].set_xlabel('Rank of Query (ie most frequent to least frequent)')\n",
    "ax[1].set_ylabel('Query Frequency');\n",
    "\n",
    "print(\"Freq   Cumulative Coverage\")\n",
    "for i, val in enumerate(cum_coverage[:10].get_values()):\n",
    "    print(\"{:>2}     {:0<5}%\".format(i+1, val))"
   ]
  },
  {
   "cell_type": "markdown",
   "metadata": {},
   "source": [
    "ie queries with a frequency of 1 account for about 30% of queries, queries with frequency of 2 or less account for 48%, 3 or less account for 58%, etc. \n",
    "\n",
    "Looking at the graph it seems like coverate rates drops off exponentially. Plotting a log-log graph of the query frequencies (y-axis) against the descending rank of the query frequency (x-axis) shows a linear-ish trend, suggesting that it does indeed look like some kind of inverse power function situation."
   ]
  },
  {
   "cell_type": "markdown",
   "metadata": {},
   "source": [
    "## Annotator Results for Pilot Annotation Round\n",
    "\n",
    "The pilot annotation round consisted of 50 queries sampled randomly from the total 84011 query instances. Below is a summary of the annotator's results.\n",
    "\n",
    "### Annotation Codes Map\n",
    "Q2.\n",
    "\n",
    "```\n",
    "'YY' = Yes -- with place name\n",
    "'YN' = Yes -- without place name\n",
    "'NY' = No (but still a place)\n",
    "'NN' = Not applicable (ie not explicit location and not a place)\n",
    "```\n",
    "\n",
    "Q3.\n",
    "```\n",
    "'IAD' = INFORMATIONAL_ADVICE\n",
    "'IDC' = INFORMATIONAL_DIRECTED_CLOSED\n",
    "'IDO' = INFORMATIONAL_DIRECTED_OPEN\n",
    "'ILI' = INFORMATIONAL_LIST\n",
    "'ILO' = INFORMATIONAL_LOCATE\n",
    "'IUN' = INFORMATIONAL_UNDIRECTED\n",
    "'NAV' = NAVIGATIONAL\n",
    "'RDE' = RESOURCE_ENTERTAINMENT\n",
    "'RDO' = RESOURCE_DOWNLOAD\n",
    "'RIN' = RESOURCE_INTERACT\n",
    "'ROB' = RESOURCE_OBTAIN\n",
    "```"
   ]
  },
  {
   "cell_type": "code",
   "execution_count": 5,
   "metadata": {},
   "outputs": [
    {
     "name": "stdout",
     "output_type": "stream",
     "text": [
      "*** Annotator: annotator1 ***\n",
      "===================================\n",
      "\n",
      "1 Skipped Queries:\n",
      "\n",
      "    \"has it been f\"\n",
      "    --- \"Appear to be incomplete; fragment lacks explicit reference to anything\"\n",
      "\n",
      "49 Annotations:\n",
      "\n",
      "1. Is this query best answered with a pin on a map?\n",
      "True: 8\n",
      "False: 41\n",
      "\n",
      "2. Is a location explicit in the query?\n",
      "YY: 16\n",
      "NY: 11\n",
      "NN: 22\n",
      "\n",
      "3. What type of query is this?\n",
      "IAD: 1\n",
      "IDC: 5\n",
      "ILI: 4\n",
      "ILO: 8\n",
      "IUN: 22\n",
      "NAV: 8\n",
      "RDE: 1\n",
      "\n",
      "\n",
      "*** Annotator: annotator2 ***\n",
      "===================================\n",
      "\n",
      "2 Skipped Queries:\n",
      "\n",
      "    \"has it been f\"\n",
      "    --- \"Appears to be an incomplete question\"\n",
      "    \"http:/www.eatability.com.au/au/sydney/chat-thai-sydney/\"\n",
      "    --- \"Looks like they entered a url into the search bar. Cannot work out what it's about.\"\n",
      "\n",
      "48 Annotations:\n",
      "\n",
      "1. Is this query best answered with a pin on a map?\n",
      "True: 11\n",
      "False: 37\n",
      "\n",
      "2. Is a location explicit in the query?\n",
      "YY: 14\n",
      "YN: 1\n",
      "NY: 19\n",
      "NN: 14\n",
      "\n",
      "3. What type of query is this?\n",
      "IAD: 1\n",
      "IDC: 4\n",
      "IDO: 2\n",
      "ILI: 7\n",
      "ILO: 15\n",
      "IUN: 8\n",
      "NAV: 9\n",
      "RIN: 2\n",
      "\n",
      "\n",
      "*** Annotator: martin ***\n",
      "===================================\n",
      "\n",
      "1 Skipped Queries:\n",
      "\n",
      "    \"has it been f\"\n",
      "    --- \"Incomplete query\"\n",
      "\n",
      "49 Annotations:\n",
      "\n",
      "1. Is this query best answered with a pin on a map?\n",
      "True: 22\n",
      "False: 27\n",
      "\n",
      "2. Is a location explicit in the query?\n",
      "YY: 17\n",
      "YN: 1\n",
      "NY: 14\n",
      "NN: 17\n",
      "\n",
      "3. What type of query is this?\n",
      "IAD: 3\n",
      "IDC: 3\n",
      "IDO: 2\n",
      "ILI: 11\n",
      "ILO: 15\n",
      "NAV: 12\n",
      "RDE: 1\n",
      "ROB: 2\n"
     ]
    }
   ],
   "source": [
    "print(utils.get_user_results('annotator1'))\n",
    "print('\\n')\n",
    "print(utils.get_user_results('annotator2'))\n",
    "print('\\n')\n",
    "print(utils.get_user_results('martin'))"
   ]
  },
  {
   "cell_type": "markdown",
   "metadata": {},
   "source": [
    "### Comments\n",
    "\n",
    "* It looks like Martin leant substantially more towards annotating queries as being geographical, ie is_geo = True for Q1, compared to both annotators.\n",
    "* for Q3, Annotator 1 was biased slightly towards INFORMATIONAL_UNDIRECTED, whereas Annotator 2 was biased towards INFORMATIONAL_LOCATE. Martin, on the other hand, favoured INFORMATIONAL_UNDIRECTED, INFORMATIONAL_LOCATE, and NAVIGATIONAL, compared to the remaining categories.   \n",
    "* what should we do about URLs? Annotator 2 skipped the one URL. Martin and Annotator 1 labelled it as Web Navigational but disagreed regarding location explicit. Martin said 'YN', Annotator 1 said 'NN'.\n"
   ]
  },
  {
   "cell_type": "markdown",
   "metadata": {},
   "source": [
    "## Inter-annotator Agreement Scores for Pilot Annotation\n",
    "\n",
    "The following results present inter-annotater agreement for the pilot round using Fleiss' kappa.\n",
    "\n",
    "Super handwavy concensus guide to interpreting kappa scores for annotation exercies in computation linguistics (Artstein and Poesio 2008:576):\n",
    " * kappa > 0.8 = good reliabiility\n",
    " * 0.67 < kappa < 0.8 = tentative conclusions may be drawn regarding the reliability of the data"
   ]
  },
  {
   "cell_type": "code",
   "execution_count": 6,
   "metadata": {},
   "outputs": [
    {
     "name": "stdout",
     "output_type": "stream",
     "text": [
      "    annotator1, annotator2   martin, annotator1   martin, annotator2\n",
      "Q1: 0.541                    0.321                    0.400                    \n",
      "Q2: 0.659                    0.461                    0.505                    \n",
      "Q3: 0.318                    0.264                    0.303                    \n"
     ]
    }
   ],
   "source": [
    "user_pairs = [\n",
    "    ['annotator1', 'annotator2'],\n",
    "    ['martin', 'annotator1'],\n",
    "    ['martin', 'annotator2'],\n",
    "]\n",
    "\n",
    "results = utils.do_iaa_pairs(user_pairs)\n",
    "utils.print_iaa_pairs(results, user_pairs)"
   ]
  },
  {
   "cell_type": "markdown",
   "metadata": {},
   "source": [
    "These scores are not particularly high. We're struggling to get into even 'tentative' reliability land. We're probably going to need to do some disagreement analysis to work out what's going on.\n",
    "\n",
    "We can, however, look at agreement for Q1 and Q2 using coarser level of agreement. For Q2, this is whether annotators agreed that a location was explicit in the query (but ignoring whether the query included a place name).\n",
    "\n",
    "For Q3, this is whether they agreed that the query was navigational, informational, or pertaining to a resource."
   ]
  },
  {
   "cell_type": "code",
   "execution_count": 7,
   "metadata": {},
   "outputs": [
    {
     "name": "stdout",
     "output_type": "stream",
     "text": [
      "    annotator1, annotator2   martin, annotator1   martin, annotator2\n",
      "Q2: 0.857                    0.861                    0.719                    \n",
      "Q3: 0.619                    0.661                    0.488                    \n"
     ]
    }
   ],
   "source": [
    "results = utils.do_iaa_pairs(user_pairs, questions=(2,3), level='coarse')\n",
    "utils.print_iaa_pairs(results, user_pairs)"
   ]
  },
  {
   "cell_type": "markdown",
   "metadata": {},
   "source": [
    "Agreement has improved, especially for Q2. Q3, however, is still a bit on the low side. "
   ]
  },
  {
   "cell_type": "markdown",
   "metadata": {},
   "source": [
    "## Disagreements "
   ]
  },
  {
   "cell_type": "code",
   "execution_count": 8,
   "metadata": {},
   "outputs": [
    {
     "name": "stdout",
     "output_type": "stream",
     "text": [
      "Question 1:\n",
      "Number all agree: 31\n",
      "Number with some disagreement: 17\n",
      "\n",
      "annotator1  annotator2  martin      \n",
      "0           0           1           Movies in Sydney George st cinemas\n",
      "0           0           1           Double room  best for couple or two girls or partner. student accommodation\n",
      "0           0           1           sale women\n",
      "0           0           1           Flatshare\n",
      "0           1           0           preise im sefton playhouse\n",
      "0           1           1           ogilvy\n",
      "0           0           1           Other Jobs\n",
      "0           0           1           skechers\n",
      "0           0           1           Hospitality\n",
      "1           0           1           gilly hicks sydney australia\n",
      "0           0           1           Jobs\n",
      "0           0           1           nike free 5.0\n",
      "1           0           1           negative-ions sydney\n",
      "0           1           1           gucci\n",
      "0           0           1           Keyboards\n",
      "0           1           1           sculpture sydney\n",
      "0           1           1           taronga zo\n",
      "\n",
      "\n",
      "Question 2:\n",
      "Number all agree: 27\n",
      "Number with some disagreement: 21\n",
      "\n",
      "annotator1  annotator2  martin      \n",
      "NN          NY          NY          Moving\n",
      "NN          YN          NY          Double room  best for couple or two girls or partner. student accommodation\n",
      "NN          NY          YY          bdnews24 bangla\n",
      "NN          NN          YY          msn jp\n",
      "NY          NY          NN          Live-out Nannies\n",
      "NY          NY          NN          the little black jacket\n",
      "NN          NY          NN          tory burch patent zip wallet\n",
      "NY          NY          NN          Gardening\n",
      "NN          NY          NY          ogilvy\n",
      "NY          NY          NN          onlinecomputers\n",
      "NN          NY          NY          skechers\n",
      "NN          NN          NY          Hospitality\n",
      "NN          NY          NN          cube\n",
      "YY          YY          NY          negative-ions sydney\n",
      "NN          NY          NY          gucci\n",
      "YY          NN          YY          nz copyright tribuna'\n",
      "NY          NY          NN          sony xperia s outright\n",
      "NN          NN          NY          rob mills\n",
      "NY          NY          NN          Real Estate\n",
      "NN          NY          NY          Keyboards\n",
      "YY          NN          YY          nsw transport\n",
      "\n",
      "\n",
      "Question 3:\n",
      "Number all agree: 14\n",
      "Number with some disagreement: 34\n",
      "\n",
      "annotator1  annotator2  martin      \n",
      "ILI         ILO         IAD         Moving\n",
      "ILO         ILO         ILI         Used Cars subaru outback NSW\n",
      "RDE         IUN         RDE         gangnam style\n",
      "IDC         NAV         ILI         Movies in Sydney George st cinemas\n",
      "IAD         ILI         ILO         Double room  best for couple or two girls or partner. student accommodation\n",
      "ILO         IDC         ILO         building 10 26-34 Dunning Ave  Rosebery NSW\n",
      "IUN         ILO         ILI         Live-out Nannies\n",
      "ILO         ILI         ILI         sale women\n",
      "IUN         ILO         ROB         the little black jacket\n",
      "IUN         ILI         ILI         Flatshare\n",
      "IUN         ILO         ILI         tory burch patent zip wallet\n",
      "IUN         ILI         IDO         Gardening\n",
      "IUN         NAV         ILO         ogilvy\n",
      "IUN         IUN         ILO         noosa\n",
      "IUN         ILO         NAV         onlinecomputers\n",
      "ILI         IAD         ILI         Other Jobs\n",
      "IUN         ILO         ILO         skechers\n",
      "IUN         IUN         ILO         Hospitality\n",
      "ILO         IDO         ILO         gilly hicks sydney australia\n",
      "IUN         IUN         IDO         cube\n",
      "IUN         ILO         ILI         nike free 5.0\n",
      "IUN         ILO         ILO         gucci\n",
      "IUN         NAV         ILI         sa law society\n",
      "ILI         IDO         IAD         3D47A7000i review\n",
      "IUN         IUN         NAV         nz copyright tribuna'\n",
      "IUN         ILO         ILO         bn2411 prad\n",
      "IDC         RIN         ROB         sony xperia s outright\n",
      "IUN         IUN         NAV         rob mills\n",
      "IUN         ILI         NAV         Real Estate\n",
      "IUN         IUN         ILO         Keyboards\n",
      "IUN         ILI         ILI         sculpture sydney\n",
      "NAV         RIN         NAV         nsw transport\n",
      "IUN         ILO         ILO         taronga zo\n",
      "IUN         IUN         IAD         pain in neck vertebrae\n",
      "\n",
      "\n"
     ]
    }
   ],
   "source": [
    "for question in (1,2,3):\n",
    "    print(utils.show_agreement(question, ['annotator1', 'annotator2', 'martin']))\n",
    "    print('\\n')"
   ]
  }
 ],
 "metadata": {
  "kernelspec": {
   "display_name": "tator",
   "language": "python",
   "name": "tator"
  },
  "language_info": {
   "codemirror_mode": {
    "name": "ipython",
    "version": 3
   },
   "file_extension": ".py",
   "mimetype": "text/x-python",
   "name": "python",
   "nbconvert_exporter": "python",
   "pygments_lexer": "ipython3",
   "version": "3.6.1"
  }
 },
 "nbformat": 4,
 "nbformat_minor": 2
}
